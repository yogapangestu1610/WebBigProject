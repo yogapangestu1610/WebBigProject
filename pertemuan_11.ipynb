{
 "cells": [
  {
   "cell_type": "markdown",
   "metadata": {},
   "source": [
    "# Pertemuan 11\n",
    "\n",
    "- Keras Transfer Learning with Flask\n",
    "    - Basic **Flask & SocketIO**\n",
    "    - **Background Job** using Flask SocketIO\n",
    "    - **Face Registration** Web App\n",
    "    - Transfer Learning Keras as Background Job Flask SocketIO\n",
    "- Flask & Bootstrap\n",
    "    - Create Template UI (Navigation Menu & Themes)\n",
    "    - Layouting Realtime Stream UI\n",
    "    - Layouting Face Registration UI"
   ]
  },
  {
   "cell_type": "markdown",
   "metadata": {},
   "source": [
    "### 1.1 Basic Flask SocketIO"
   ]
  },
  {
   "cell_type": "markdown",
   "metadata": {},
   "source": [
    "- install library"
   ]
  },
  {
   "cell_type": "code",
   "execution_count": 1,
   "metadata": {},
   "outputs": [
    {
     "name": "stdout",
     "output_type": "stream",
     "text": [
      "Collecting flask-socketio\n",
      "  Downloading Flask_SocketIO-5.2.0-py3-none-any.whl (17 kB)\n",
      "Collecting python-socketio>=5.0.2\n",
      "  Downloading python_socketio-5.6.0-py3-none-any.whl (56 kB)\n",
      "     -------------------------------------- 56.2/56.2 kB 978.1 kB/s eta 0:00:00\n",
      "Requirement already satisfied: Flask>=0.9 in d:\\install\\anaconda3\\lib\\site-packages (from flask-socketio) (1.1.2)\n",
      "Requirement already satisfied: click>=5.1 in d:\\install\\anaconda3\\lib\\site-packages (from Flask>=0.9->flask-socketio) (8.0.3)\n",
      "Requirement already satisfied: Werkzeug>=0.15 in d:\\install\\anaconda3\\lib\\site-packages (from Flask>=0.9->flask-socketio) (2.0.2)\n",
      "Requirement already satisfied: Jinja2>=2.10.1 in d:\\install\\anaconda3\\lib\\site-packages (from Flask>=0.9->flask-socketio) (2.11.3)\n",
      "Requirement already satisfied: itsdangerous>=0.24 in d:\\install\\anaconda3\\lib\\site-packages (from Flask>=0.9->flask-socketio) (2.0.1)\n",
      "Collecting python-engineio>=4.3.0\n",
      "  Downloading python_engineio-4.3.2-py3-none-any.whl (52 kB)\n",
      "     ---------------------------------------- 52.7/52.7 kB 2.7 MB/s eta 0:00:00\n",
      "Collecting bidict>=0.21.0\n",
      "  Downloading bidict-0.22.0-py3-none-any.whl (36 kB)\n",
      "Requirement already satisfied: colorama in d:\\install\\anaconda3\\lib\\site-packages (from click>=5.1->Flask>=0.9->flask-socketio) (0.4.4)\n",
      "Requirement already satisfied: MarkupSafe>=0.23 in d:\\install\\anaconda3\\lib\\site-packages (from Jinja2>=2.10.1->Flask>=0.9->flask-socketio) (1.1.1)\n",
      "Installing collected packages: python-engineio, bidict, python-socketio, flask-socketio\n",
      "Successfully installed bidict-0.22.0 flask-socketio-5.2.0 python-engineio-4.3.2 python-socketio-5.6.0\n"
     ]
    },
    {
     "name": "stderr",
     "output_type": "stream",
     "text": [
      "WARNING: There was an error checking the latest version of pip.\n"
     ]
    }
   ],
   "source": [
    "! pip install flask-socketio"
   ]
  },
  {
   "cell_type": "code",
   "execution_count": 2,
   "metadata": {},
   "outputs": [
    {
     "name": "stdout",
     "output_type": "stream",
     "text": [
      "Collecting eventlet\n",
      "  Downloading eventlet-0.33.1-py2.py3-none-any.whl (226 kB)\n",
      "     ------------------------------------ 226.8/226.8 kB 988.6 kB/s eta 0:00:00\n",
      "Requirement already satisfied: greenlet>=0.3 in d:\\install\\anaconda3\\lib\\site-packages (from eventlet) (1.1.1)\n",
      "Collecting dnspython>=1.15.0\n",
      "  Using cached dnspython-2.2.1-py3-none-any.whl (269 kB)\n",
      "Requirement already satisfied: six>=1.10.0 in d:\\install\\anaconda3\\lib\\site-packages (from eventlet) (1.16.0)\n",
      "Installing collected packages: dnspython, eventlet\n",
      "Successfully installed dnspython-2.2.1 eventlet-0.33.1\n"
     ]
    },
    {
     "name": "stderr",
     "output_type": "stream",
     "text": [
      "WARNING: There was an error checking the latest version of pip.\n"
     ]
    }
   ],
   "source": [
    "! pip install eventlet"
   ]
  },
  {
   "cell_type": "markdown",
   "metadata": {},
   "source": [
    "#### 1.1.1 About Socket.IO\n",
    "- **Socket.IO** is a library that enables **real-time**, **bidirectional** and **event-based** communication between the **browser** and the **server**.\n",
    "- official documentation : https://flask-socketio.readthedocs.io/en/latest/\n",
    "- requirement : asynchronous services (**evenlet** / **gavent**)\n",
    "- How websocket works : <br>\n",
    "![](resource/socket.png)\n",
    "<br><br>\n",
    "- Version compatibility : <br>\n",
    "![](resource/socket2.png)\n",
    "- Flask-SocketIO installed is version 5.0.1\n",
    "- Required javascript Socket.IO version is 3.x\n",
    "    - list of javascript Socket.IO : https://cdnjs.com/libraries/socket.io"
   ]
  },
  {
   "cell_type": "markdown",
   "metadata": {},
   "source": [
    "- Basic implementation : `1. Flask - SocketIO`\n",
    "- run `python ./1. Flask - SocketIO/app.py`\n"
   ]
  },
  {
   "cell_type": "code",
   "execution_count": null,
   "metadata": {},
   "outputs": [],
   "source": []
  }
 ],
 "metadata": {
  "kernelspec": {
   "display_name": "Python 3 (ipykernel)",
   "language": "python",
   "name": "python3"
  },
  "language_info": {
   "codemirror_mode": {
    "name": "ipython",
    "version": 3
   },
   "file_extension": ".py",
   "mimetype": "text/x-python",
   "name": "python",
   "nbconvert_exporter": "python",
   "pygments_lexer": "ipython3",
   "version": "3.8.5"
  }
 },
 "nbformat": 4,
 "nbformat_minor": 4
}
