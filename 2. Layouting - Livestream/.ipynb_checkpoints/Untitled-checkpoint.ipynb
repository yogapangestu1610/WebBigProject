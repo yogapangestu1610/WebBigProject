{
 "cells": [
  {
   "cell_type": "code",
   "execution_count": 1,
   "id": "ecc2c3d3",
   "metadata": {},
   "outputs": [],
   "source": [
    "import os\n",
    "import cv2\n",
    "from flask import Flask, render_template, Response, request, flash\n",
    "from core_service.facerecognition import Recognizer"
   ]
  },
  {
   "cell_type": "code",
   "execution_count": 8,
   "id": "ddaf0a1e",
   "metadata": {},
   "outputs": [
    {
     "ename": "SyntaxError",
     "evalue": "invalid syntax (Temp/ipykernel_32272/916599095.py, line 8)",
     "output_type": "error",
     "traceback": [
      "\u001b[1;36m  File \u001b[1;32m\"C:\\Users\\LENOVO\\AppData\\Local\\Temp/ipykernel_32272/916599095.py\"\u001b[1;36m, line \u001b[1;32m8\u001b[0m\n\u001b[1;33m    facedetection_model=os.path.join(PATH, \"core_Service\\\\bin\\\\haarcascade_frontalface_default.xml\"),\u001b[0m\n\u001b[1;37m    ^\u001b[0m\n\u001b[1;31mSyntaxError\u001b[0m\u001b[1;31m:\u001b[0m invalid syntax\n"
     ]
    }
   ],
   "source": [
    "\n",
    "\n",
    "app = Flask(__name__)\n",
    "app.config['SECRET_KEY'] = 'qwerty123'\n",
    "\n",
    "##PATH = '\\\\'.join(os.path.abspath(\"__file__\").split('\\\\')[0:-1])\n",
    "recognizer = Recognizer(\n",
    "    facerecognition_model = os.path.join(PATH, \"C:\\Users\\LENOVO\\Downloads\\UAS\\NewPartCNN\\pertemuan_11\\pertemuan_11\\2. Layouting - Livestream\\core_service\\bin\\frozen_graph.pb\"), \n",
    "    labels_filename=os.path.join(PATH, \"C:\\Users\\LENOVO\\Downloads\\UAS\\NewPartCNN\\pertemuan_11\\pertemuan_11\\2. Layouting - Livestream\\core_service\\labels.csv\") \n",
    "    facedetection_model=os.path.join(PATH, \"C:\\Users\\LENOVO\\Downloads\\UAS\\NewPartCNN\\pertemuan_11\\pertemuan_11\\2. Layouting - Livestream\\core_service\\bin\\haarcascade_frontalface_default.xml\"),\n",
    "    use_mtcnn = False,\n",
    "    camera_src=0\n",
    ")\n",
    "\n",
    "\n",
    "@app.route(\"/\")\n",
    "def index():\n",
    "    camera = request.args.get(\"camera\")\n",
    "\n",
    "    if camera is not None and camera == 'off':\n",
    "        recognizer.close()\n",
    "        flash(\"Camera turn off!\", \"info\")\n",
    "    elif camera is not None and camera == 'on':\n",
    "        recognizer.open()\n",
    "        flash(\"Camera turn on!\", \"success\")\n",
    "    print(\"camera status\", recognizer.status())\n",
    "    return render_template(\"index.html\", is_camera = recognizer.status())\n",
    "\n",
    "@app.route(\"/history\")\n",
    "def history():\n",
    "    return render_template(\"history.html\")\n",
    "\n",
    "@app.route(\"/face_registration\")\n",
    "def face_registration():\n",
    "    return render_template(\"face_registration.html\")\n",
    "    \n",
    "@app.route('/video_feed')\n",
    "def video_feed():\n",
    "    return Response(recognizer.gen_frames(), \n",
    "                    mimetype='multipart/x-mixed-replace; boundary=frame')\n",
    "\n",
    "if __name__ == '__main__':\n",
    "    app.run(debug=True)"
   ]
  },
  {
   "cell_type": "code",
   "execution_count": null,
   "id": "41ccfdfb",
   "metadata": {},
   "outputs": [],
   "source": []
  }
 ],
 "metadata": {
  "kernelspec": {
   "display_name": "Python 3 (ipykernel)",
   "language": "python",
   "name": "python3"
  },
  "language_info": {
   "codemirror_mode": {
    "name": "ipython",
    "version": 3
   },
   "file_extension": ".py",
   "mimetype": "text/x-python",
   "name": "python",
   "nbconvert_exporter": "python",
   "pygments_lexer": "ipython3",
   "version": "3.8.5"
  }
 },
 "nbformat": 4,
 "nbformat_minor": 5
}
